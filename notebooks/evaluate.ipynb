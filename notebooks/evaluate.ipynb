{
 "cells": [
  {
   "cell_type": "markdown",
   "source": [
    "# Evaluation using mir_eval\n",
    "This notebook evaluates the generated MIDI file under `out/midi/vocals_basic_pitch.mid` using the mir_eval library to calucate the F-measure amongst a few other statistical values."
   ],
   "metadata": {
    "collapsed": false
   }
  },
  {
   "cell_type": "code",
   "execution_count": null,
   "outputs": [],
   "source": [
    "import pretty_midi\n",
    "from evaluate_midi import prepare_eval_data, evaluate\n",
    "\n",
    "def get_eval_data(midi_path):\n",
    "    midi = pretty_midi.PrettyMIDI(midi_path)\n",
    "    return prepare_eval_data(midi.instruments[0].notes)\n",
    "\n",
    "# Load reference notes from USDX MIDI file\n",
    "reference_notes = get_eval_data('../data/out/usdx-midi/song.mid')\n",
    "\n",
    "# Load estimated notes from generated MIDI file\n",
    "estimated_notes = get_eval_data('../data/out/midi/vocals_basic_pitch.mid')\n",
    "\n",
    "# Evaluate\n",
    "scores = evaluate(reference_notes, estimated_notes)\n",
    "print(\"F-measure: %r\" % scores['F-measure'])\n",
    "scores"
   ],
   "metadata": {
    "collapsed": false
   }
  }
 ],
 "metadata": {
  "kernelspec": {
   "display_name": "Python 3",
   "language": "python",
   "name": "python3"
  },
  "language_info": {
   "codemirror_mode": {
    "name": "ipython",
    "version": 2
   },
   "file_extension": ".py",
   "mimetype": "text/x-python",
   "name": "python",
   "nbconvert_exporter": "python",
   "pygments_lexer": "ipython2",
   "version": "2.7.6"
  }
 },
 "nbformat": 4,
 "nbformat_minor": 0
}
