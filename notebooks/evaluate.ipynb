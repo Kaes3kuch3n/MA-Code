{
 "cells": [
  {
   "cell_type": "markdown",
   "source": [
    "# Evaluation using mir_eval\n",
    "This notebook evaluates the generated MIDI file under `out/midi/vocals_basic_pitch.mid` using the mir_eval library to calucate the F-measure amongst a few other statistical values."
   ],
   "metadata": {
    "collapsed": false
   }
  },
  {
   "cell_type": "code",
   "execution_count": 4,
   "outputs": [
    {
     "name": "stdout",
     "output_type": "stream",
     "text": [
      "F-measure: 0.10843373493975904\n"
     ]
    },
    {
     "data": {
      "text/plain": "OrderedDict([('Precision', 0.0847723704866562),\n             ('Recall', 0.15041782729805014),\n             ('F-measure', 0.10843373493975904),\n             ('Average_Overlap_Ratio', 0.7723818933147819),\n             ('Precision_no_offset', 0.15698587127158556),\n             ('Recall_no_offset', 0.2785515320334262),\n             ('F-measure_no_offset', 0.2008032128514056),\n             ('Average_Overlap_Ratio_no_offset', 0.6453252108048626),\n             ('Onset_Precision', 0.24489795918367346),\n             ('Onset_Recall', 0.43454038997214484),\n             ('Onset_F-measure', 0.31325301204819284),\n             ('Offset_Precision', 0.282574568288854),\n             ('Offset_Recall', 0.5013927576601671),\n             ('Offset_F-measure', 0.3614457831325301)])"
     },
     "execution_count": 4,
     "metadata": {},
     "output_type": "execute_result"
    }
   ],
   "source": [
    "import pretty_midi\n",
    "from evaluate_midi import prepare_eval_data, evaluate\n",
    "\n",
    "def get_eval_data(midi_path):\n",
    "    midi = pretty_midi.PrettyMIDI(midi_path)\n",
    "    return prepare_eval_data(midi.instruments[0].notes)\n",
    "\n",
    "# Load reference notes from USDX MIDI file\n",
    "reference_notes = get_eval_data('../data/out/usdx-midi/wake-me-up.mid')\n",
    "\n",
    "# Load estimated notes from generated MIDI file\n",
    "estimated_notes = get_eval_data('../data/out/midi/vocals_basic_pitch.mid')\n",
    "\n",
    "# Evaluate\n",
    "scores = evaluate(reference_notes, estimated_notes)\n",
    "print(\"F-measure: %r\" % scores['F-measure'])\n",
    "scores"
   ],
   "metadata": {
    "collapsed": false,
    "ExecuteTime": {
     "end_time": "2023-07-21T15:15:44.545242Z",
     "start_time": "2023-07-21T15:15:44.483040Z"
    }
   }
  }
 ],
 "metadata": {
  "kernelspec": {
   "display_name": "Python 3",
   "language": "python",
   "name": "python3"
  },
  "language_info": {
   "codemirror_mode": {
    "name": "ipython",
    "version": 2
   },
   "file_extension": ".py",
   "mimetype": "text/x-python",
   "name": "python",
   "nbconvert_exporter": "python",
   "pygments_lexer": "ipython2",
   "version": "2.7.6"
  }
 },
 "nbformat": 4,
 "nbformat_minor": 0
}
