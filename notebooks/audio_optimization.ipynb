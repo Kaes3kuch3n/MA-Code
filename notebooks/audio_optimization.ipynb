{
 "cells": [
  {
   "cell_type": "code",
   "execution_count": null,
   "outputs": [],
   "source": [
    "from pydub import AudioSegment, effects\n",
    "\n",
    "# Load audio file\n",
    "audio = AudioSegment.from_file(\"../data/out/htdemucs_ft/Avicii - Wake Me Up/vocals.wav\")\n",
    "normalized = effects.normalize(audio)\n",
    "normalized.export(\"../data/out/normalized_audio/vocals.wav\", format=\"wav\")"
   ],
   "metadata": {
    "collapsed": false
   }
  },
  {
   "cell_type": "code",
   "execution_count": null,
   "metadata": {
    "collapsed": true
   },
   "outputs": [],
   "source": [
    "from pedalboard import Pedalboard, NoiseGate, Compressor, LowpassFilter\n",
    "\n",
    "# Setup pedalboard\n",
    "board = Pedalboard([\n",
    "    NoiseGate(threshold_db=-18.0, attack_ms=500.0, release_ms=1500.0),\n",
    "    LowpassFilter(cutoff_frequency_hz=500.0),\n",
    "    Compressor(threshold_db=-6.0, ratio=5),\n",
    "])"
   ]
  },
  {
   "cell_type": "code",
   "execution_count": null,
   "outputs": [],
   "source": [
    "from pedalboard.io import AudioFile\n",
    "\n",
    "# Load audio file\n",
    "with AudioFile(\"../data/out/htdemucs_ft/Idina Menzel - Let It Go/vocals.wav\") as audio:\n",
    "    with AudioFile(\"../data/out/optimized_audio/frozen_vocals.wav\", 'w', audio.samplerate, audio.num_channels) as output:\n",
    "        # Loop over file and apply pedalboard effects\n",
    "        while audio.tell() < audio.frames:\n",
    "            chunk = audio.read(int(audio.samplerate))\n",
    "            effected = board.process(chunk, audio.samplerate, reset=False)\n",
    "            output.write(effected)"
   ],
   "metadata": {
    "collapsed": false
   }
  },
  {
   "cell_type": "code",
   "execution_count": null,
   "outputs": [],
   "source": [
    "# Process using speechbrain ML model: metricgan-plus-voicebank\n",
    "from speechbrain.pretrained import SpectralMaskEnhancement\n",
    "import torchaudio\n",
    "import torch\n",
    "\n",
    "model = SpectralMaskEnhancement.from_hparams(\n",
    "    source=\"speechbrain/metricgan-plus-voicebank\",\n",
    "    savedir=\"../models/metricgan-plus-voicebank\",\n",
    ")\n",
    "\n",
    "input = \"../data/out/htdemucs_ft/Avicii - Wake Me Up/vocals.wav\"\n",
    "output = \"../data/out/optimized_audio/vocals_enhanced_metricgan.wav\"\n",
    "\n",
    "noisy = model.load_audio(input).unsqueeze(0)\n",
    "\n",
    "enhanced = model.enhance_batch(noisy, lengths=torch.tensor([1.]))\n",
    "\n",
    "# Saving enhanced signal on disk\n",
    "torchaudio.save(output, enhanced.cpu(), 16000)"
   ],
   "metadata": {
    "collapsed": false
   }
  },
  {
   "cell_type": "code",
   "execution_count": null,
   "outputs": [],
   "source": [
    "# Process using speechbrain ML model: mtl-mimic-voicebank\n",
    "import torchaudio\n",
    "from speechbrain.pretrained import WaveformEnhancement\n",
    "\n",
    "input = \"../data/out/htdemucs_ft/Avicii - Wake Me Up/vocals.wav\"\n",
    "output = \"../data/out/optimized_audio/vocals_enhanced_mtl.wav\"\n",
    "\n",
    "enhance_model = WaveformEnhancement.from_hparams(\n",
    "    source=\"speechbrain/mtl-mimic-voicebank\",\n",
    "    savedir=\"pretrained_models/mtl-mimic-voicebank\",\n",
    ")\n",
    "enhanced = enhance_model.enhance_file(input)\n",
    "\n",
    "# Saving enhanced signal on disk\n",
    "torchaudio.save(output, enhanced.unsqueeze(0).cpu(), 16000)"
   ],
   "metadata": {
    "collapsed": false
   }
  }
 ],
 "metadata": {
  "kernelspec": {
   "display_name": "Python 3",
   "language": "python",
   "name": "python3"
  },
  "language_info": {
   "codemirror_mode": {
    "name": "ipython",
    "version": 2
   },
   "file_extension": ".py",
   "mimetype": "text/x-python",
   "name": "python",
   "nbconvert_exporter": "python",
   "pygments_lexer": "ipython2",
   "version": "2.7.6"
  }
 },
 "nbformat": 4,
 "nbformat_minor": 0
}
