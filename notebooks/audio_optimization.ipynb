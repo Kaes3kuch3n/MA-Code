{
 "cells": [
  {
   "cell_type": "code",
   "execution_count": 35,
   "metadata": {
    "collapsed": true,
    "ExecuteTime": {
     "end_time": "2023-07-21T13:20:04.817868Z",
     "start_time": "2023-07-21T13:20:04.814887Z"
    }
   },
   "outputs": [],
   "source": [
    "from pedalboard import Pedalboard, NoiseGate, Compressor\n",
    "\n",
    "# Setup pedalboard\n",
    "board = Pedalboard([\n",
    "    #Compressor(threshold_db=-6.0, ratio=5),\n",
    "    NoiseGate(threshold_db=-18.0, attack_ms=500.0, release_ms=1500.0)\n",
    "])"
   ]
  },
  {
   "cell_type": "code",
   "execution_count": 36,
   "outputs": [],
   "source": [
    "from pedalboard.io import AudioFile\n",
    "\n",
    "# Load audio file\n",
    "with AudioFile(\"../data/out/htdemucs_ft/Avicii - Wake Me Up/vocals.wav\") as audio:\n",
    "    with AudioFile(\"../data/out/optimized_audio/vocals.wav\", 'w', audio.samplerate, audio.num_channels) as out:\n",
    "        # Loop over file and apply pedalboard effects\n",
    "        while audio.tell() < audio.frames:\n",
    "            chunk = audio.read(int(audio.samplerate))\n",
    "            effected = board.process(chunk, audio.samplerate, reset=False)\n",
    "            out.write(effected)"
   ],
   "metadata": {
    "collapsed": false,
    "ExecuteTime": {
     "end_time": "2023-07-21T13:20:05.107497Z",
     "start_time": "2023-07-21T13:20:04.820791Z"
    }
   }
  }
 ],
 "metadata": {
  "kernelspec": {
   "display_name": "Python 3",
   "language": "python",
   "name": "python3"
  },
  "language_info": {
   "codemirror_mode": {
    "name": "ipython",
    "version": 2
   },
   "file_extension": ".py",
   "mimetype": "text/x-python",
   "name": "python",
   "nbconvert_exporter": "python",
   "pygments_lexer": "ipython2",
   "version": "2.7.6"
  }
 },
 "nbformat": 4,
 "nbformat_minor": 0
}
