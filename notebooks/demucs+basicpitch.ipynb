{
 "cells": [
  {
   "cell_type": "markdown",
   "source": [
    "# Split Audio using demucs\n",
    "Splits the input file into vocals.wav and no_vocals.wav files"
   ],
   "metadata": {
    "collapsed": false
   }
  },
  {
   "cell_type": "code",
   "execution_count": null,
   "metadata": {
    "collapsed": true
   },
   "outputs": [],
   "source": [
    "from main import split\n",
    "\n",
    "# Split vocals from mp3\n",
    "split(\"../data/test/song.mp3\", \"../data/out/\")"
   ]
  },
  {
   "cell_type": "markdown",
   "source": [
    "# Convert Audio to MIDI file\n",
    "Transcribes vocals.wav file to MIDI notes and stores the result as MIDI file. Also renders a wav version of the resulting MIDI data."
   ],
   "metadata": {
    "collapsed": false
   }
  },
  {
   "cell_type": "code",
   "execution_count": null,
   "outputs": [],
   "source": [
    "from main import to_midi\n",
    "\n",
    "# Convert vocals to midi\n",
    "to_midi(\"../data/out/htdemucs_ft/song/vocals.wav\", \"../data/out/midi\",\n",
    "        0.2, 0.25501208430819716, 134\n",
    "        )"
   ],
   "metadata": {
    "collapsed": false
   }
  },
  {
   "cell_type": "markdown",
   "source": [
    "# Basic Pitch inspection\n",
    "Prints the results of basic pitch instead of saving them to a file"
   ],
   "metadata": {
    "collapsed": false
   }
  },
  {
   "cell_type": "code",
   "execution_count": null,
   "outputs": [],
   "source": [
    "_, _, note_events = to_midi(\n",
    "        \"../data/out/optimized_audio/vocals.wav\", None,\n",
    "        0.2, 0.25501208430819716, 134\n",
    ")"
   ],
   "metadata": {
    "collapsed": false
   }
  },
  {
   "cell_type": "code",
   "execution_count": null,
   "outputs": [],
   "source": [
    "import matplotlib.pyplot as plt\n",
    "\n",
    "pitches = [note[2] for note in note_events]\n",
    "pitch_range = max(pitches) - min(pitches)\n",
    "display(pitches)\n",
    "\n",
    "# Draw histogram of note pitches\n",
    "plt.hist(pitches, bins=pitch_range)\n",
    "plt.show()"
   ],
   "metadata": {
    "collapsed": false
   }
  },
  {
   "cell_type": "code",
   "execution_count": null,
   "outputs": [],
   "source": [
    "from basic_pitch.note_creation import note_events_to_midi\n",
    "\n",
    "# Normalize MIDI data\n",
    "note_events = [(note[0], note[1], note[2], 1.0, None) for note in note_events]\n",
    "midi_data = note_events_to_midi(note_events, midi_tempo=248)\n",
    "midi_data.write(\"../data/out/midi/vocals_novelo.mid\")\n"
   ],
   "metadata": {
    "collapsed": false
   }
  },
  {
   "cell_type": "code",
   "execution_count": null,
   "outputs": [],
   "source": [
    "from demucs import separate\n",
    "import os\n",
    "\n",
    "counter = 0\n",
    "\n",
    "song_dirs = os.scandir('songs/')\n",
    "for song_dir in song_dirs:\n",
    "    if not song_dir.is_dir():\n",
    "        continue\n",
    "    # Get the path to the file\n",
    "    path = os.path.join(song_dir.path, f'{song_dir}.wav')\n",
    "    if not os.path.exists(path):\n",
    "        print(f'File {path} not found, skipping...')\n",
    "        continue\n",
    "    # Split the vocals\n",
    "    separate.main([\"--two-stems\", \"vocals\", \"-n\", \"htdemucs_ft\", \"-o\", song_dir.path, path])\n",
    "    print(f'{++counter}/{len(song_dirs)} files processed')\n",
    "        \n",
    "print('Done!')"
   ],
   "metadata": {
    "collapsed": false
   }
  }
 ],
 "metadata": {
  "kernelspec": {
   "display_name": "Python 3",
   "language": "python",
   "name": "python3"
  },
  "language_info": {
   "codemirror_mode": {
    "name": "ipython",
    "version": 2
   },
   "file_extension": ".py",
   "mimetype": "text/x-python",
   "name": "python",
   "nbconvert_exporter": "python",
   "pygments_lexer": "ipython2",
   "version": "2.7.6"
  }
 },
 "nbformat": 4,
 "nbformat_minor": 0
}
