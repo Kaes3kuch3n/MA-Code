{
 "cells": [
  {
   "cell_type": "markdown",
   "source": [
    "# Split Audio using demucs\n",
    "Splits the input file into vocals.wav and no_vocals.wav files"
   ],
   "metadata": {
    "collapsed": false
   }
  },
  {
   "cell_type": "code",
   "execution_count": 1,
   "metadata": {
    "collapsed": true,
    "ExecuteTime": {
     "end_time": "2023-07-21T12:50:15.395988Z",
     "start_time": "2023-07-21T12:00:59.854182Z"
    }
   },
   "outputs": [
    {
     "name": "stderr",
     "output_type": "stream",
     "text": [
      "Downloading: \"https://dl.fbaipublicfiles.com/demucs/hybrid_transformer/f7e0c4bc-ba3fe64a.th\" to /Users/luishankel/.cache/torch/hub/checkpoints/f7e0c4bc-ba3fe64a.th\n",
      "100%|██████████| 80.2M/80.2M [00:12<00:00, 6.86MB/s]\n",
      "Downloading: \"https://dl.fbaipublicfiles.com/demucs/hybrid_transformer/d12395a8-e57c48e6.th\" to /Users/luishankel/.cache/torch/hub/checkpoints/d12395a8-e57c48e6.th\n",
      "100%|██████████| 80.2M/80.2M [00:11<00:00, 7.10MB/s]\n",
      "Downloading: \"https://dl.fbaipublicfiles.com/demucs/hybrid_transformer/92cfc3b6-ef3bcb9c.th\" to /Users/luishankel/.cache/torch/hub/checkpoints/92cfc3b6-ef3bcb9c.th\n",
      "100%|██████████| 80.2M/80.2M [00:12<00:00, 6.78MB/s]\n",
      "Downloading: \"https://dl.fbaipublicfiles.com/demucs/hybrid_transformer/04573f0d-f3cf25b2.th\" to /Users/luishankel/.cache/torch/hub/checkpoints/04573f0d-f3cf25b2.th\n",
      "100%|██████████| 80.2M/80.2M [00:12<00:00, 6.73MB/s]\n"
     ]
    },
    {
     "name": "stdout",
     "output_type": "stream",
     "text": [
      "Selected model is a bag of 4 models. You will see that many progress bars per track.\n",
      "Separated tracks will be stored in /Users/luishankel/Documents/PycharmProjects/IMI Projects/Masterarbeit/data/out/htdemucs_ft\n",
      "Separating track ../data/in/Avicii - Wake Me Up.mp3\n"
     ]
    },
    {
     "name": "stderr",
     "output_type": "stream",
     "text": [
      "100%|████████████████████████████████████████████████████████████████████████| 257.4/257.4 [02:04<00:00,  2.06seconds/s]\n",
      "100%|████████████████████████████████████████████████████████████████████████| 257.4/257.4 [02:05<00:00,  2.05seconds/s]\n",
      "100%|██████████████████████████████████████████████| 251.54999999999998/251.54999999999998 [02:02<00:00,  2.05seconds/s]\n",
      "100%|██████████████████████████████████████████████| 251.54999999999998/251.54999999999998 [02:02<00:00,  2.05seconds/s]\n"
     ]
    }
   ],
   "source": [
    "from main import split\n",
    "\n",
    "# Split vocals from mp3\n",
    "split(\"../data/in/Avicii - Wake Me Up.mp3\", \"../data/out/\")"
   ]
  },
  {
   "cell_type": "markdown",
   "source": [
    "# Convert Audio to MIDI file\n",
    "Transcribes vocals.wav file to MIDI notes and stores the result as MIDI file. Also renders a wav version of the resulting MIDI data."
   ],
   "metadata": {
    "collapsed": false
   }
  },
  {
   "cell_type": "code",
   "execution_count": 2,
   "outputs": [
    {
     "name": "stdout",
     "output_type": "stream",
     "text": [
      "\n",
      "Predicting MIDI for ../data/out/optimized_audio/vocals.wav...\n",
      "\n",
      "\n",
      "  Creating midi...\n"
     ]
    },
    {
     "ename": "OSError",
     "evalue": "  🚨 ../data/out/midi/vocals_basic_pitch.mid already exists and would be overwritten. Skipping output files for ../data/out/optimized_audio/vocals.wav.",
     "output_type": "error",
     "traceback": [
      "\u001B[0;31m---------------------------------------------------------------------------\u001B[0m",
      "\u001B[0;31mOSError\u001B[0m                                   Traceback (most recent call last)",
      "Cell \u001B[0;32mIn[2], line 4\u001B[0m\n\u001B[1;32m      1\u001B[0m \u001B[38;5;28;01mfrom\u001B[39;00m \u001B[38;5;21;01mmain\u001B[39;00m \u001B[38;5;28;01mimport\u001B[39;00m to_midi\n\u001B[1;32m      3\u001B[0m \u001B[38;5;66;03m# Convert vocals to midi\u001B[39;00m\n\u001B[0;32m----> 4\u001B[0m \u001B[43mto_midi\u001B[49m\u001B[43m(\u001B[49m\u001B[38;5;124;43m\"\u001B[39;49m\u001B[38;5;124;43m../data/out/optimized_audio/vocals.wav\u001B[39;49m\u001B[38;5;124;43m\"\u001B[39;49m\u001B[43m,\u001B[49m\u001B[43m \u001B[49m\u001B[38;5;124;43m\"\u001B[39;49m\u001B[38;5;124;43m../data/out/midi\u001B[39;49m\u001B[38;5;124;43m\"\u001B[39;49m\u001B[43m,\u001B[49m\n\u001B[1;32m      5\u001B[0m \u001B[43m        \u001B[49m\u001B[38;5;241;43m0.2\u001B[39;49m\u001B[43m,\u001B[49m\u001B[43m \u001B[49m\u001B[38;5;241;43m0.25501208430819716\u001B[39;49m\u001B[43m,\u001B[49m\u001B[43m \u001B[49m\u001B[38;5;241;43m134\u001B[39;49m\n\u001B[1;32m      6\u001B[0m \u001B[43m)\u001B[49m\n",
      "File \u001B[0;32m~/Documents/PycharmProjects/IMI Projects/Masterarbeit/main.py:21\u001B[0m, in \u001B[0;36mto_midi\u001B[0;34m(in_path, out_path, onset_threshold, frame_threshold, minimum_note_length)\u001B[0m\n\u001B[1;32m     12\u001B[0m \u001B[38;5;250m\u001B[39m\u001B[38;5;124;03m\"\"\"\u001B[39;00m\n\u001B[1;32m     13\u001B[0m \u001B[38;5;124;03mConvert audio to midi. Uses a frequency range from 80 Hz to 1kHz.\u001B[39;00m\n\u001B[1;32m     14\u001B[0m \u001B[38;5;124;03m:param in_path:\u001B[39;00m\n\u001B[0;32m   (...)\u001B[0m\n\u001B[1;32m     18\u001B[0m \u001B[38;5;124;03m:param minimum_note_length: Min note length in milliseconds\u001B[39;00m\n\u001B[1;32m     19\u001B[0m \u001B[38;5;124;03m\"\"\"\u001B[39;00m\n\u001B[1;32m     20\u001B[0m \u001B[38;5;28;01mif\u001B[39;00m out_path \u001B[38;5;129;01mis\u001B[39;00m \u001B[38;5;129;01mnot\u001B[39;00m \u001B[38;5;28;01mNone\u001B[39;00m:\n\u001B[0;32m---> 21\u001B[0m     \u001B[43mpredict_and_save\u001B[49m\u001B[43m(\u001B[49m\n\u001B[1;32m     22\u001B[0m \u001B[43m        \u001B[49m\u001B[43m[\u001B[49m\u001B[43min_path\u001B[49m\u001B[43m]\u001B[49m\u001B[43m,\u001B[49m\n\u001B[1;32m     23\u001B[0m \u001B[43m        \u001B[49m\u001B[43mout_path\u001B[49m\u001B[43m,\u001B[49m\n\u001B[1;32m     24\u001B[0m \u001B[43m        \u001B[49m\u001B[43msave_midi\u001B[49m\u001B[38;5;241;43m=\u001B[39;49m\u001B[38;5;28;43;01mTrue\u001B[39;49;00m\u001B[43m,\u001B[49m\n\u001B[1;32m     25\u001B[0m \u001B[43m        \u001B[49m\u001B[43msonify_midi\u001B[49m\u001B[38;5;241;43m=\u001B[39;49m\u001B[38;5;28;43;01mTrue\u001B[39;49;00m\u001B[43m,\u001B[49m\n\u001B[1;32m     26\u001B[0m \u001B[43m        \u001B[49m\u001B[43msave_model_outputs\u001B[49m\u001B[38;5;241;43m=\u001B[39;49m\u001B[38;5;28;43;01mFalse\u001B[39;49;00m\u001B[43m,\u001B[49m\n\u001B[1;32m     27\u001B[0m \u001B[43m        \u001B[49m\u001B[43msave_notes\u001B[49m\u001B[38;5;241;43m=\u001B[39;49m\u001B[38;5;28;43;01mFalse\u001B[39;49;00m\u001B[43m,\u001B[49m\n\u001B[1;32m     28\u001B[0m \u001B[43m        \u001B[49m\u001B[43mminimum_frequency\u001B[49m\u001B[38;5;241;43m=\u001B[39;49m\u001B[38;5;241;43m80\u001B[39;49m\u001B[43m,\u001B[49m\n\u001B[1;32m     29\u001B[0m \u001B[43m        \u001B[49m\u001B[43mmaximum_frequency\u001B[49m\u001B[38;5;241;43m=\u001B[39;49m\u001B[38;5;241;43m1000\u001B[39;49m\u001B[43m,\u001B[49m\n\u001B[1;32m     30\u001B[0m \u001B[43m        \u001B[49m\u001B[43monset_threshold\u001B[49m\u001B[38;5;241;43m=\u001B[39;49m\u001B[43monset_threshold\u001B[49m\u001B[43m,\u001B[49m\n\u001B[1;32m     31\u001B[0m \u001B[43m        \u001B[49m\u001B[43mframe_threshold\u001B[49m\u001B[38;5;241;43m=\u001B[39;49m\u001B[43mframe_threshold\u001B[49m\u001B[43m,\u001B[49m\n\u001B[1;32m     32\u001B[0m \u001B[43m        \u001B[49m\u001B[43mminimum_note_length\u001B[49m\u001B[38;5;241;43m=\u001B[39;49m\u001B[43mminimum_note_length\u001B[49m\n\u001B[1;32m     33\u001B[0m \u001B[43m    \u001B[49m\u001B[43m)\u001B[49m\n\u001B[1;32m     34\u001B[0m \u001B[38;5;28;01melse\u001B[39;00m:\n\u001B[1;32m     35\u001B[0m     \u001B[38;5;28;01mreturn\u001B[39;00m predict(\n\u001B[1;32m     36\u001B[0m         in_path,\n\u001B[1;32m     37\u001B[0m         minimum_frequency\u001B[38;5;241m=\u001B[39m\u001B[38;5;241m80\u001B[39m,\n\u001B[0;32m   (...)\u001B[0m\n\u001B[1;32m     41\u001B[0m         minimum_note_length\u001B[38;5;241m=\u001B[39mminimum_note_length\n\u001B[1;32m     42\u001B[0m     )\n",
      "File \u001B[0;32m/opt/homebrew/Caskroom/miniforge/base/envs/Masterarbeit/lib/python3.10/site-packages/basic_pitch/inference.py:441\u001B[0m, in \u001B[0;36mpredict_and_save\u001B[0;34m(audio_path_list, output_directory, save_midi, sonify_midi, save_model_outputs, save_notes, model_path, onset_threshold, frame_threshold, minimum_note_length, minimum_frequency, maximum_frequency, multiple_pitch_bends, melodia_trick, debug_file, sonification_samplerate, midi_tempo)\u001B[0m\n\u001B[1;32m    439\u001B[0m             \u001B[38;5;28;01mraise\u001B[39;00m e\n\u001B[1;32m    440\u001B[0m \u001B[38;5;28;01mexcept\u001B[39;00m \u001B[38;5;167;01mException\u001B[39;00m \u001B[38;5;28;01mas\u001B[39;00m e:\n\u001B[0;32m--> 441\u001B[0m     \u001B[38;5;28;01mraise\u001B[39;00m e\n",
      "File \u001B[0;32m/opt/homebrew/Caskroom/miniforge/base/envs/Masterarbeit/lib/python3.10/site-packages/basic_pitch/inference.py:415\u001B[0m, in \u001B[0;36mpredict_and_save\u001B[0;34m(audio_path_list, output_directory, save_midi, sonify_midi, save_model_outputs, save_notes, model_path, onset_threshold, frame_threshold, minimum_note_length, minimum_frequency, maximum_frequency, multiple_pitch_bends, melodia_trick, debug_file, sonification_samplerate, midi_tempo)\u001B[0m\n\u001B[1;32m    413\u001B[0m     midi_path \u001B[38;5;241m=\u001B[39m build_output_path(audio_path, output_directory, OutputExtensions\u001B[38;5;241m.\u001B[39mMIDI)\n\u001B[1;32m    414\u001B[0m \u001B[38;5;28;01mexcept\u001B[39;00m \u001B[38;5;167;01mIOError\u001B[39;00m \u001B[38;5;28;01mas\u001B[39;00m e:\n\u001B[0;32m--> 415\u001B[0m     \u001B[38;5;28;01mraise\u001B[39;00m e\n\u001B[1;32m    416\u001B[0m \u001B[38;5;28;01mtry\u001B[39;00m:\n\u001B[1;32m    417\u001B[0m     midi_data\u001B[38;5;241m.\u001B[39mwrite(\u001B[38;5;28mstr\u001B[39m(midi_path))\n",
      "File \u001B[0;32m/opt/homebrew/Caskroom/miniforge/base/envs/Masterarbeit/lib/python3.10/site-packages/basic_pitch/inference.py:413\u001B[0m, in \u001B[0;36mpredict_and_save\u001B[0;34m(audio_path_list, output_directory, save_midi, sonify_midi, save_model_outputs, save_notes, model_path, onset_threshold, frame_threshold, minimum_note_length, minimum_frequency, maximum_frequency, multiple_pitch_bends, melodia_trick, debug_file, sonification_samplerate, midi_tempo)\u001B[0m\n\u001B[1;32m    411\u001B[0m \u001B[38;5;28;01mif\u001B[39;00m save_midi:\n\u001B[1;32m    412\u001B[0m     \u001B[38;5;28;01mtry\u001B[39;00m:\n\u001B[0;32m--> 413\u001B[0m         midi_path \u001B[38;5;241m=\u001B[39m \u001B[43mbuild_output_path\u001B[49m\u001B[43m(\u001B[49m\u001B[43maudio_path\u001B[49m\u001B[43m,\u001B[49m\u001B[43m \u001B[49m\u001B[43moutput_directory\u001B[49m\u001B[43m,\u001B[49m\u001B[43m \u001B[49m\u001B[43mOutputExtensions\u001B[49m\u001B[38;5;241;43m.\u001B[39;49m\u001B[43mMIDI\u001B[49m\u001B[43m)\u001B[49m\n\u001B[1;32m    414\u001B[0m     \u001B[38;5;28;01mexcept\u001B[39;00m \u001B[38;5;167;01mIOError\u001B[39;00m \u001B[38;5;28;01mas\u001B[39;00m e:\n\u001B[1;32m    415\u001B[0m         \u001B[38;5;28;01mraise\u001B[39;00m e\n",
      "File \u001B[0;32m/opt/homebrew/Caskroom/miniforge/base/envs/Masterarbeit/lib/python3.10/site-packages/basic_pitch/inference.py:233\u001B[0m, in \u001B[0;36mbuild_output_path\u001B[0;34m(audio_path, output_directory, output_type)\u001B[0m\n\u001B[1;32m    230\u001B[0m generating_file_message(output_type\u001B[38;5;241m.\u001B[39mname)\n\u001B[1;32m    232\u001B[0m \u001B[38;5;28;01mif\u001B[39;00m output_path\u001B[38;5;241m.\u001B[39mexists():\n\u001B[0;32m--> 233\u001B[0m     \u001B[38;5;28;01mraise\u001B[39;00m \u001B[38;5;167;01mIOError\u001B[39;00m(\n\u001B[1;32m    234\u001B[0m         \u001B[38;5;124mf\u001B[39m\u001B[38;5;124m\"\u001B[39m\u001B[38;5;124m  🚨 \u001B[39m\u001B[38;5;132;01m{\u001B[39;00m\u001B[38;5;28mstr\u001B[39m(output_path)\u001B[38;5;132;01m}\u001B[39;00m\u001B[38;5;124m already exists and would be overwritten. Skipping output files for \u001B[39m\u001B[38;5;132;01m{\u001B[39;00maudio_path\u001B[38;5;132;01m}\u001B[39;00m\u001B[38;5;124m.\u001B[39m\u001B[38;5;124m\"\u001B[39m\n\u001B[1;32m    235\u001B[0m     )\n\u001B[1;32m    237\u001B[0m \u001B[38;5;28;01mreturn\u001B[39;00m output_path\n",
      "\u001B[0;31mOSError\u001B[0m:   🚨 ../data/out/midi/vocals_basic_pitch.mid already exists and would be overwritten. Skipping output files for ../data/out/optimized_audio/vocals.wav."
     ]
    }
   ],
   "source": [
    "from main import to_midi\n",
    "\n",
    "# Convert vocals to midi\n",
    "to_midi(\"../data/out/optimized_audio/vocals.wav\", \"../data/out/midi\",\n",
    "        0.2, 0.25501208430819716, 134\n",
    ")"
   ],
   "metadata": {
    "collapsed": false,
    "ExecuteTime": {
     "end_time": "2023-07-21T15:02:09.364531Z",
     "start_time": "2023-07-21T15:02:00.614980Z"
    }
   }
  },
  {
   "cell_type": "markdown",
   "source": [
    "# Basic Pitch inspection\n",
    "Prints the results of basic pitch instead of saving them to a file"
   ],
   "metadata": {
    "collapsed": false
   }
  },
  {
   "cell_type": "code",
   "execution_count": 3,
   "outputs": [
    {
     "name": "stdout",
     "output_type": "stream",
     "text": [
      "Predicting MIDI for ../data/out/optimized_audio/vocals.wav...\n"
     ]
    }
   ],
   "source": [
    "_, _, note_events = to_midi(\n",
    "        \"../data/out/optimized_audio/vocals.wav\", None,\n",
    "        0.2, 0.25501208430819716, 134\n",
    ")"
   ],
   "metadata": {
    "collapsed": false,
    "ExecuteTime": {
     "end_time": "2023-07-21T15:02:17.650517Z",
     "start_time": "2023-07-21T15:02:12.914411Z"
    }
   }
  },
  {
   "cell_type": "code",
   "execution_count": null,
   "outputs": [],
   "source": [
    "import matplotlib.pyplot as plt\n",
    "\n",
    "pitches = [note[2] for note in note_events]\n",
    "pitch_range = max(pitches) - min(pitches)\n",
    "display(pitches)\n",
    "\n",
    "# Draw histogram of note pitches\n",
    "plt.hist(pitches, bins=pitch_range)\n",
    "plt.show()"
   ],
   "metadata": {
    "collapsed": false
   }
  },
  {
   "cell_type": "code",
   "execution_count": 4,
   "outputs": [],
   "source": [
    "from basic_pitch.note_creation import note_events_to_midi\n",
    "\n",
    "# Normalize MIDI data\n",
    "note_events = [(note[0], note[1], note[2], 1.0, None) for note in note_events]\n",
    "midi_data = note_events_to_midi(note_events, midi_tempo=248)\n",
    "midi_data.write(\"../data/out/midi/vocals_novelo.mid\")\n"
   ],
   "metadata": {
    "collapsed": false,
    "ExecuteTime": {
     "end_time": "2023-07-21T15:02:58.197836Z",
     "start_time": "2023-07-21T15:02:58.174665Z"
    }
   }
  }
 ],
 "metadata": {
  "kernelspec": {
   "display_name": "Python 3",
   "language": "python",
   "name": "python3"
  },
  "language_info": {
   "codemirror_mode": {
    "name": "ipython",
    "version": 2
   },
   "file_extension": ".py",
   "mimetype": "text/x-python",
   "name": "python",
   "nbconvert_exporter": "python",
   "pygments_lexer": "ipython2",
   "version": "2.7.6"
  }
 },
 "nbformat": 4,
 "nbformat_minor": 0
}
