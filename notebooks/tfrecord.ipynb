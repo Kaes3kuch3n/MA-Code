{
 "cells": [
  {
   "cell_type": "code",
   "execution_count": 2,
   "outputs": [
    {
     "data": {
      "text/plain": "<TensorSliceDataset element_spec=TensorSpec(shape=(), dtype=tf.string, name=None)>"
     },
     "execution_count": 2,
     "metadata": {},
     "output_type": "execute_result"
    }
   ],
   "source": [
    "import tensorflow as tf\n",
    "\n",
    "files = [f\"../data/datasets/guitarset/train.tfrecord-{i:05}-of-00019\" for i in range(19)]\n",
    "dataset = tf.data.Dataset.from_tensor_slices(files)\n",
    "\n",
    "def parse_fn(*args):\n",
    "      pb = args[-1]  # Some readers have more than 1 arg.\n",
    "      return tf.io.parse_single_example(pb, {\n",
    "        'sequence': tf.io.FixedLenFeature([], dtype=tf.string),\n",
    "        'audio': tf.io.FixedLenFeature([], dtype=tf.string),\n",
    "        'velocity_range': tf.io.FixedLenFeature([], dtype=tf.string),\n",
    "        'id': tf.io.FixedLenFeature([], dtype=tf.string),\n",
    "    })\n",
    "\n",
    "def reader(data):\n",
    "    return tf.data.TFRecordDataset(data).map(parse_fn)\n",
    "\n",
    "dataset = dataset.interleave(reader, cycle_length=16, block_length=16)\n",
    "\n",
    "list(dataset.as_numpy_iterator())"
   ],
   "metadata": {
    "collapsed": false,
    "ExecuteTime": {
     "end_time": "2023-08-10T20:28:58.649585Z",
     "start_time": "2023-08-10T20:28:58.644350Z"
    }
   },
   "id": "initial_id"
  }
 ],
 "metadata": {
  "kernelspec": {
   "display_name": "Python 3",
   "language": "python",
   "name": "python3"
  },
  "language_info": {
   "codemirror_mode": {
    "name": "ipython",
    "version": 2
   },
   "file_extension": ".py",
   "mimetype": "text/x-python",
   "name": "python",
   "nbconvert_exporter": "python",
   "pygments_lexer": "ipython2",
   "version": "2.7.6"
  }
 },
 "nbformat": 4,
 "nbformat_minor": 5
}
