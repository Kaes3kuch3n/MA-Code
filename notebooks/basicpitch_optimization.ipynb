{
 "cells": [
  {
   "cell_type": "code",
   "execution_count": 1,
   "outputs": [],
   "source": [
    "import pretty_midi\n",
    "from evaluate_midi import prepare_eval_data\n",
    "\n",
    "# Load reference notes from USDX MIDI file\n",
    "midi = pretty_midi.PrettyMIDI('../data/out/usdx-midi/wake-me-up.mid')\n",
    "original_midi = midi.instruments[0].notes\n",
    "\n",
    "reference_notes = prepare_eval_data(original_midi)"
   ],
   "metadata": {
    "collapsed": false,
    "ExecuteTime": {
     "end_time": "2023-07-21T14:35:52.366699Z",
     "start_time": "2023-07-21T14:35:51.990429Z"
    }
   }
  },
  {
   "cell_type": "code",
   "execution_count": 2,
   "outputs": [],
   "source": [
    "import tensorflow as tf\n",
    "from basic_pitch.inference import predict, ICASSP_2022_MODEL_PATH\n",
    "\n",
    "# Load prediction model to cache it between function calls\n",
    "basic_pitch_model = tf.saved_model.load(str(ICASSP_2022_MODEL_PATH))\n",
    "\n",
    "# Generate MIDI from vocals track\n",
    "def predict_notes(**options):\n",
    "    model_output, midi_data, note_events = predict(\n",
    "        \"../data/out/optimized_audio/vocals.wav\",\n",
    "        basic_pitch_model,\n",
    "        minimum_frequency=80,\n",
    "        maximum_frequency=1000,\n",
    "        **options\n",
    "    )\n",
    "    if len(midi_data.instruments) == 0:\n",
    "        print(\"No notes predicted for params %r\" % options)\n",
    "        return []\n",
    "    return midi_data.instruments[0].notes"
   ],
   "metadata": {
    "collapsed": false,
    "ExecuteTime": {
     "end_time": "2023-07-21T14:35:56.496794Z",
     "start_time": "2023-07-21T14:35:52.368423Z"
    }
   }
  },
  {
   "cell_type": "code",
   "execution_count": 4,
   "outputs": [
    {
     "name": "stdout",
     "output_type": "stream",
     "text": [
      "Predicting MIDI for ../data/out/optimized_audio/vocals.wav...\n",
      "Predicting MIDI for ../data/out/optimized_audio/vocals.wav...\n",
      "Predicting MIDI for ../data/out/optimized_audio/vocals.wav...\n",
      "Predicting MIDI for ../data/out/optimized_audio/vocals.wav...\n",
      "Predicting MIDI for ../data/out/optimized_audio/vocals.wav...\n",
      "Predicting MIDI for ../data/out/optimized_audio/vocals.wav...\n",
      "Predicting MIDI for ../data/out/optimized_audio/vocals.wav...\n",
      "Predicting MIDI for ../data/out/optimized_audio/vocals.wav...\n",
      "Predicting MIDI for ../data/out/optimized_audio/vocals.wav...\n",
      "Predicting MIDI for ../data/out/optimized_audio/vocals.wav...\n",
      "Predicting MIDI for ../data/out/optimized_audio/vocals.wav...\n",
      "Predicting MIDI for ../data/out/optimized_audio/vocals.wav...\n",
      "Predicting MIDI for ../data/out/optimized_audio/vocals.wav...\n",
      "Predicting MIDI for ../data/out/optimized_audio/vocals.wav...\n",
      "Predicting MIDI for ../data/out/optimized_audio/vocals.wav...\n",
      "Predicting MIDI for ../data/out/optimized_audio/vocals.wav...\n",
      "Predicting MIDI for ../data/out/optimized_audio/vocals.wav...\n",
      "Predicting MIDI for ../data/out/optimized_audio/vocals.wav...\n",
      "Predicting MIDI for ../data/out/optimized_audio/vocals.wav...\n",
      "Predicting MIDI for ../data/out/optimized_audio/vocals.wav...\n",
      "Predicting MIDI for ../data/out/optimized_audio/vocals.wav...\n",
      "Predicting MIDI for ../data/out/optimized_audio/vocals.wav...\n",
      "Predicting MIDI for ../data/out/optimized_audio/vocals.wav...\n",
      "Predicting MIDI for ../data/out/optimized_audio/vocals.wav...\n",
      "Predicting MIDI for ../data/out/optimized_audio/vocals.wav...\n",
      "Predicting MIDI for ../data/out/optimized_audio/vocals.wav...\n",
      "Predicting MIDI for ../data/out/optimized_audio/vocals.wav...\n",
      "Predicting MIDI for ../data/out/optimized_audio/vocals.wav...\n",
      "Predicting MIDI for ../data/out/optimized_audio/vocals.wav...\n",
      "Predicting MIDI for ../data/out/optimized_audio/vocals.wav...\n",
      "Predicting MIDI for ../data/out/optimized_audio/vocals.wav...\n",
      "Predicting MIDI for ../data/out/optimized_audio/vocals.wav...\n",
      "Predicting MIDI for ../data/out/optimized_audio/vocals.wav...\n",
      "Predicting MIDI for ../data/out/optimized_audio/vocals.wav...\n",
      "Predicting MIDI for ../data/out/optimized_audio/vocals.wav...\n",
      "Predicting MIDI for ../data/out/optimized_audio/vocals.wav...\n",
      "Predicting MIDI for ../data/out/optimized_audio/vocals.wav...\n",
      "Predicting MIDI for ../data/out/optimized_audio/vocals.wav...\n"
     ]
    },
    {
     "name": "stderr",
     "output_type": "stream",
     "text": [
      "/opt/homebrew/Caskroom/miniforge/base/envs/Masterarbeit/lib/python3.10/site-packages/skopt/optimizer/optimizer.py:449: UserWarning: The objective has been evaluated at this point before.\n",
      "  warnings.warn(\"The objective has been evaluated \"\n"
     ]
    },
    {
     "name": "stdout",
     "output_type": "stream",
     "text": [
      "Predicting MIDI for ../data/out/optimized_audio/vocals.wav...\n",
      "Predicting MIDI for ../data/out/optimized_audio/vocals.wav...\n",
      "Predicting MIDI for ../data/out/optimized_audio/vocals.wav...\n",
      "Predicting MIDI for ../data/out/optimized_audio/vocals.wav...\n",
      "Predicting MIDI for ../data/out/optimized_audio/vocals.wav...\n"
     ]
    },
    {
     "name": "stderr",
     "output_type": "stream",
     "text": [
      "/opt/homebrew/Caskroom/miniforge/base/envs/Masterarbeit/lib/python3.10/site-packages/skopt/optimizer/optimizer.py:449: UserWarning: The objective has been evaluated at this point before.\n",
      "  warnings.warn(\"The objective has been evaluated \"\n"
     ]
    },
    {
     "name": "stdout",
     "output_type": "stream",
     "text": [
      "Predicting MIDI for ../data/out/optimized_audio/vocals.wav...\n"
     ]
    },
    {
     "name": "stderr",
     "output_type": "stream",
     "text": [
      "/opt/homebrew/Caskroom/miniforge/base/envs/Masterarbeit/lib/python3.10/site-packages/skopt/optimizer/optimizer.py:449: UserWarning: The objective has been evaluated at this point before.\n",
      "  warnings.warn(\"The objective has been evaluated \"\n"
     ]
    },
    {
     "name": "stdout",
     "output_type": "stream",
     "text": [
      "Predicting MIDI for ../data/out/optimized_audio/vocals.wav...\n",
      "Predicting MIDI for ../data/out/optimized_audio/vocals.wav...\n",
      "Predicting MIDI for ../data/out/optimized_audio/vocals.wav...\n",
      "Predicting MIDI for ../data/out/optimized_audio/vocals.wav...\n",
      "Predicting MIDI for ../data/out/optimized_audio/vocals.wav...\n",
      "Predicting MIDI for ../data/out/optimized_audio/vocals.wav...\n",
      "Predicting MIDI for ../data/out/optimized_audio/vocals.wav...\n",
      "Predicting MIDI for ../data/out/optimized_audio/vocals.wav...\n",
      "Predicting MIDI for ../data/out/optimized_audio/vocals.wav...\n",
      "Predicting MIDI for ../data/out/optimized_audio/vocals.wav...\n",
      "Predicting MIDI for ../data/out/optimized_audio/vocals.wav...\n",
      "Predicting MIDI for ../data/out/optimized_audio/vocals.wav...\n",
      "Predicting MIDI for ../data/out/optimized_audio/vocals.wav...\n",
      "Predicting MIDI for ../data/out/optimized_audio/vocals.wav...\n",
      "Predicting MIDI for ../data/out/optimized_audio/vocals.wav...\n",
      "Predicting MIDI for ../data/out/optimized_audio/vocals.wav...\n",
      "Predicting MIDI for ../data/out/optimized_audio/vocals.wav...\n",
      "Predicting MIDI for ../data/out/optimized_audio/vocals.wav...\n",
      "Predicting MIDI for ../data/out/optimized_audio/vocals.wav...\n",
      "Predicting MIDI for ../data/out/optimized_audio/vocals.wav...\n",
      "Predicting MIDI for ../data/out/optimized_audio/vocals.wav...\n",
      "Predicting MIDI for ../data/out/optimized_audio/vocals.wav...\n",
      "Predicting MIDI for ../data/out/optimized_audio/vocals.wav...\n",
      "Predicting MIDI for ../data/out/optimized_audio/vocals.wav...\n",
      "Predicting MIDI for ../data/out/optimized_audio/vocals.wav...\n",
      "Predicting MIDI for ../data/out/optimized_audio/vocals.wav...\n",
      "Predicting MIDI for ../data/out/optimized_audio/vocals.wav...\n",
      "Predicting MIDI for ../data/out/optimized_audio/vocals.wav...\n",
      "Predicting MIDI for ../data/out/optimized_audio/vocals.wav...\n",
      "Predicting MIDI for ../data/out/optimized_audio/vocals.wav...\n",
      "Predicting MIDI for ../data/out/optimized_audio/vocals.wav...\n",
      "Predicting MIDI for ../data/out/optimized_audio/vocals.wav...\n",
      "Predicting MIDI for ../data/out/optimized_audio/vocals.wav...\n",
      "Predicting MIDI for ../data/out/optimized_audio/vocals.wav...\n",
      "Predicting MIDI for ../data/out/optimized_audio/vocals.wav...\n",
      "Predicting MIDI for ../data/out/optimized_audio/vocals.wav...\n",
      "Predicting MIDI for ../data/out/optimized_audio/vocals.wav...\n",
      "Predicting MIDI for ../data/out/optimized_audio/vocals.wav...\n",
      "Predicting MIDI for ../data/out/optimized_audio/vocals.wav...\n",
      "Predicting MIDI for ../data/out/optimized_audio/vocals.wav...\n",
      "Predicting MIDI for ../data/out/optimized_audio/vocals.wav...\n",
      "Predicting MIDI for ../data/out/optimized_audio/vocals.wav...\n",
      "Predicting MIDI for ../data/out/optimized_audio/vocals.wav...\n",
      "Predicting MIDI for ../data/out/optimized_audio/vocals.wav...\n",
      "Predicting MIDI for ../data/out/optimized_audio/vocals.wav...\n",
      "Predicting MIDI for ../data/out/optimized_audio/vocals.wav...\n",
      "Predicting MIDI for ../data/out/optimized_audio/vocals.wav...\n",
      "Predicting MIDI for ../data/out/optimized_audio/vocals.wav...\n",
      "Predicting MIDI for ../data/out/optimized_audio/vocals.wav...\n",
      "Predicting MIDI for ../data/out/optimized_audio/vocals.wav...\n",
      "Predicting MIDI for ../data/out/optimized_audio/vocals.wav...\n",
      "Predicting MIDI for ../data/out/optimized_audio/vocals.wav...\n",
      "Predicting MIDI for ../data/out/optimized_audio/vocals.wav...\n",
      "Predicting MIDI for ../data/out/optimized_audio/vocals.wav...\n",
      "Predicting MIDI for ../data/out/optimized_audio/vocals.wav...\n",
      "Predicting MIDI for ../data/out/optimized_audio/vocals.wav...\n"
     ]
    },
    {
     "data": {
      "text/plain": "          fun: 0.8895582329317269\n            x: [0.2, 0.25501208430819716, 134]\n    func_vals: [ 9.403e-01  9.365e-01 ...  8.972e-01  8.972e-01]\n      x_iters: [[0.5301232310927759, 0.22884326898568813, 168], [0.2925753180909904, 0.3710359815013974, 202], [0.22111362551852728, 0.3595853954208452, 177], [0.5909326836988139, 0.6120539224984891, 241], [0.40343851094321304, 0.32469445426418597, 136], [0.3379009301440803, 0.5148610796688657, 113], [0.3648067104061148, 0.7305994534591005, 224], [0.675641171886195, 0.5129450955667988, 169], [0.37280992699253146, 0.42869847725007115, 156], [0.7296526948957998, 0.7448619637242753, 112], [0.2, 0.4049107100831101, 80], [0.8, 0.5626127930645245, 80], [0.2, 0.2, 80], [0.2, 0.4400118935288232, 121], [0.34126700398011844, 0.2, 250], [0.7990052069511879, 0.39376963479695226, 121], [0.2, 0.6205138830235053, 80], [0.47395117983010865, 0.4513533038241543, 99], [0.2, 0.2990868302790715, 80], [0.2, 0.4978485430696133, 141], [0.2, 0.5077110964013956, 80], [0.8, 0.2, 80], [0.2140092237319132, 0.5363736653302777, 143], [0.2, 0.2, 129], [0.2, 0.5626870205043168, 128], [0.2, 0.2, 118], [0.2, 0.24741319804255008, 128], [0.8, 0.564559507568047, 129], [0.7868251477671082, 0.3838574496124867, 245], [0.21019401492517015, 0.5042237009150674, 184], [0.36832129262062113, 0.5404347582328087, 135], [0.20045480986101072, 0.6687467186069783, 153], [0.2, 0.2, 143], [0.20075270780659235, 0.20966993858192107, 171], [0.2, 0.2, 140], [0.21814856307435662, 0.4943818965650432, 250], [0.7895435584094679, 0.7967003100969821, 188], [0.20118420599270867, 0.797186388468264, 101], [0.2, 0.2, 140], [0.2, 0.2, 141], [0.2, 0.2620980664418331, 145], [0.2, 0.2, 203], [0.2, 0.29981929300185695, 150], [0.2, 0.2, 140], [0.2, 0.2, 140], [0.2, 0.23685751579854836, 143], [0.2, 0.5786306518194082, 163], [0.2, 0.5964849589048611, 177], [0.8, 0.2, 123], [0.2, 0.5967856789714187, 155], [0.2, 0.544853408818704, 166], [0.2, 0.2282689760503094, 142], [0.2, 0.2311934397622921, 142], [0.2, 0.2318414653140351, 142], [0.2, 0.2313404789144167, 143], [0.7941442759443444, 0.42907920041431474, 80], [0.2, 0.23151917216580142, 143], [0.2, 0.2310135321393867, 143], [0.7942866565521445, 0.792148285182187, 84], [0.7852202409773188, 0.6239417166710666, 172], [0.2, 0.2309026067346052, 144], [0.7953221211347925, 0.3842519490254224, 183], [0.748098358056184, 0.7885351598379542, 250], [0.2, 0.23038591167861086, 144], [0.7836447474207808, 0.213830334949922, 227], [0.20432862013276645, 0.3294174821263887, 115], [0.20787575250270812, 0.5887505890521596, 196], [0.2, 0.5541798920872469, 164], [0.2, 0.24808604416312188, 136], [0.2, 0.24775517275383366, 136], [0.2, 0.24636699436368587, 137], [0.2, 0.2, 149], [0.2262231739549013, 0.6346979843189334, 113], [0.2, 0.25146471224694955, 135], [0.2215146405021883, 0.7992918446277057, 158], [0.2, 0.254415203165715, 134], [0.2, 0.26102050044714636, 132], [0.2, 0.2523531923560618, 134], [0.2, 0.2538327758106037, 134], [0.2, 0.2570122150314914, 133], [0.2, 0.25170297992633106, 135], [0.2, 0.2524871814709842, 135], [0.2, 0.25501208430819716, 134], [0.2, 0.25995044792438743, 133], [0.2, 0.25182604266196024, 134], [0.2, 0.2520929025607797, 134], [0.2, 0.25230107470209745, 134], [0.2, 0.25244651646970956, 134], [0.2, 0.2525133983006528, 134], [0.2, 0.25457865951503045, 134], [0.2, 0.2605704164595629, 133], [0.2, 0.2481895729384373, 134], [0.2, 0.24799570678680818, 135], [0.2, 0.2477376310277831, 135], [0.2, 0.24762389173613364, 135], [0.2, 0.247682630379986, 136], [0.2, 0.2471548907394691, 136], [0.2, 0.24683869333515704, 136], [0.2, 0.24669136725301555, 136], [0.2, 0.2467358072753511, 136]]\n       models: [GaussianProcessRegressor(kernel=1**2 * Matern(length_scale=[1, 1, 1], nu=2.5) + WhiteKernel(noise_level=1),\n                                        n_restarts_optimizer=2, noise='gaussian',\n                                        normalize_y=True, random_state=589623511), GaussianProcessRegressor(kernel=1**2 * Matern(length_scale=[1, 1, 1], nu=2.5) + WhiteKernel(noise_level=1),\n                                        n_restarts_optimizer=2, noise='gaussian',\n                                        normalize_y=True, random_state=589623511), GaussianProcessRegressor(kernel=1**2 * Matern(length_scale=[1, 1, 1], nu=2.5) + WhiteKernel(noise_level=1),\n                                        n_restarts_optimizer=2, noise='gaussian',\n                                        normalize_y=True, random_state=589623511), GaussianProcessRegressor(kernel=1**2 * Matern(length_scale=[1, 1, 1], nu=2.5) + WhiteKernel(noise_level=1),\n                                        n_restarts_optimizer=2, noise='gaussian',\n                                        normalize_y=True, random_state=589623511), GaussianProcessRegressor(kernel=1**2 * Matern(length_scale=[1, 1, 1], nu=2.5) + WhiteKernel(noise_level=1),\n                                        n_restarts_optimizer=2, noise='gaussian',\n                                        normalize_y=True, random_state=589623511), GaussianProcessRegressor(kernel=1**2 * Matern(length_scale=[1, 1, 1], nu=2.5) + WhiteKernel(noise_level=1),\n                                        n_restarts_optimizer=2, noise='gaussian',\n                                        normalize_y=True, random_state=589623511), GaussianProcessRegressor(kernel=1**2 * Matern(length_scale=[1, 1, 1], nu=2.5) + WhiteKernel(noise_level=1),\n                                        n_restarts_optimizer=2, noise='gaussian',\n                                        normalize_y=True, random_state=589623511), GaussianProcessRegressor(kernel=1**2 * Matern(length_scale=[1, 1, 1], nu=2.5) + WhiteKernel(noise_level=1),\n                                        n_restarts_optimizer=2, noise='gaussian',\n                                        normalize_y=True, random_state=589623511), GaussianProcessRegressor(kernel=1**2 * Matern(length_scale=[1, 1, 1], nu=2.5) + WhiteKernel(noise_level=1),\n                                        n_restarts_optimizer=2, noise='gaussian',\n                                        normalize_y=True, random_state=589623511), GaussianProcessRegressor(kernel=1**2 * Matern(length_scale=[1, 1, 1], nu=2.5) + WhiteKernel(noise_level=1),\n                                        n_restarts_optimizer=2, noise='gaussian',\n                                        normalize_y=True, random_state=589623511), GaussianProcessRegressor(kernel=1**2 * Matern(length_scale=[1, 1, 1], nu=2.5) + WhiteKernel(noise_level=1),\n                                        n_restarts_optimizer=2, noise='gaussian',\n                                        normalize_y=True, random_state=589623511), GaussianProcessRegressor(kernel=1**2 * Matern(length_scale=[1, 1, 1], nu=2.5) + WhiteKernel(noise_level=1),\n                                        n_restarts_optimizer=2, noise='gaussian',\n                                        normalize_y=True, random_state=589623511), GaussianProcessRegressor(kernel=1**2 * Matern(length_scale=[1, 1, 1], nu=2.5) + WhiteKernel(noise_level=1),\n                                        n_restarts_optimizer=2, noise='gaussian',\n                                        normalize_y=True, random_state=589623511), GaussianProcessRegressor(kernel=1**2 * Matern(length_scale=[1, 1, 1], nu=2.5) + WhiteKernel(noise_level=1),\n                                        n_restarts_optimizer=2, noise='gaussian',\n                                        normalize_y=True, random_state=589623511), GaussianProcessRegressor(kernel=1**2 * Matern(length_scale=[1, 1, 1], nu=2.5) + WhiteKernel(noise_level=1),\n                                        n_restarts_optimizer=2, noise='gaussian',\n                                        normalize_y=True, random_state=589623511), GaussianProcessRegressor(kernel=1**2 * Matern(length_scale=[1, 1, 1], nu=2.5) + WhiteKernel(noise_level=1),\n                                        n_restarts_optimizer=2, noise='gaussian',\n                                        normalize_y=True, random_state=589623511), GaussianProcessRegressor(kernel=1**2 * Matern(length_scale=[1, 1, 1], nu=2.5) + WhiteKernel(noise_level=1),\n                                        n_restarts_optimizer=2, noise='gaussian',\n                                        normalize_y=True, random_state=589623511), GaussianProcessRegressor(kernel=1**2 * Matern(length_scale=[1, 1, 1], nu=2.5) + WhiteKernel(noise_level=1),\n                                        n_restarts_optimizer=2, noise='gaussian',\n                                        normalize_y=True, random_state=589623511), GaussianProcessRegressor(kernel=1**2 * Matern(length_scale=[1, 1, 1], nu=2.5) + WhiteKernel(noise_level=1),\n                                        n_restarts_optimizer=2, noise='gaussian',\n                                        normalize_y=True, random_state=589623511), GaussianProcessRegressor(kernel=1**2 * Matern(length_scale=[1, 1, 1], nu=2.5) + WhiteKernel(noise_level=1),\n                                        n_restarts_optimizer=2, noise='gaussian',\n                                        normalize_y=True, random_state=589623511), GaussianProcessRegressor(kernel=1**2 * Matern(length_scale=[1, 1, 1], nu=2.5) + WhiteKernel(noise_level=1),\n                                        n_restarts_optimizer=2, noise='gaussian',\n                                        normalize_y=True, random_state=589623511), GaussianProcessRegressor(kernel=1**2 * Matern(length_scale=[1, 1, 1], nu=2.5) + WhiteKernel(noise_level=1),\n                                        n_restarts_optimizer=2, noise='gaussian',\n                                        normalize_y=True, random_state=589623511), GaussianProcessRegressor(kernel=1**2 * Matern(length_scale=[1, 1, 1], nu=2.5) + WhiteKernel(noise_level=1),\n                                        n_restarts_optimizer=2, noise='gaussian',\n                                        normalize_y=True, random_state=589623511), GaussianProcessRegressor(kernel=1**2 * Matern(length_scale=[1, 1, 1], nu=2.5) + WhiteKernel(noise_level=1),\n                                        n_restarts_optimizer=2, noise='gaussian',\n                                        normalize_y=True, random_state=589623511), GaussianProcessRegressor(kernel=1**2 * Matern(length_scale=[1, 1, 1], nu=2.5) + WhiteKernel(noise_level=1),\n                                        n_restarts_optimizer=2, noise='gaussian',\n                                        normalize_y=True, random_state=589623511), GaussianProcessRegressor(kernel=1**2 * Matern(length_scale=[1, 1, 1], nu=2.5) + WhiteKernel(noise_level=1),\n                                        n_restarts_optimizer=2, noise='gaussian',\n                                        normalize_y=True, random_state=589623511), GaussianProcessRegressor(kernel=1**2 * Matern(length_scale=[1, 1, 1], nu=2.5) + WhiteKernel(noise_level=1),\n                                        n_restarts_optimizer=2, noise='gaussian',\n                                        normalize_y=True, random_state=589623511), GaussianProcessRegressor(kernel=1**2 * Matern(length_scale=[1, 1, 1], nu=2.5) + WhiteKernel(noise_level=1),\n                                        n_restarts_optimizer=2, noise='gaussian',\n                                        normalize_y=True, random_state=589623511), GaussianProcessRegressor(kernel=1**2 * Matern(length_scale=[1, 1, 1], nu=2.5) + WhiteKernel(noise_level=1),\n                                        n_restarts_optimizer=2, noise='gaussian',\n                                        normalize_y=True, random_state=589623511), GaussianProcessRegressor(kernel=1**2 * Matern(length_scale=[1, 1, 1], nu=2.5) + WhiteKernel(noise_level=1),\n                                        n_restarts_optimizer=2, noise='gaussian',\n                                        normalize_y=True, random_state=589623511), GaussianProcessRegressor(kernel=1**2 * Matern(length_scale=[1, 1, 1], nu=2.5) + WhiteKernel(noise_level=1),\n                                        n_restarts_optimizer=2, noise='gaussian',\n                                        normalize_y=True, random_state=589623511), GaussianProcessRegressor(kernel=1**2 * Matern(length_scale=[1, 1, 1], nu=2.5) + WhiteKernel(noise_level=1),\n                                        n_restarts_optimizer=2, noise='gaussian',\n                                        normalize_y=True, random_state=589623511), GaussianProcessRegressor(kernel=1**2 * Matern(length_scale=[1, 1, 1], nu=2.5) + WhiteKernel(noise_level=1),\n                                        n_restarts_optimizer=2, noise='gaussian',\n                                        normalize_y=True, random_state=589623511), GaussianProcessRegressor(kernel=1**2 * Matern(length_scale=[1, 1, 1], nu=2.5) + WhiteKernel(noise_level=1),\n                                        n_restarts_optimizer=2, noise='gaussian',\n                                        normalize_y=True, random_state=589623511), GaussianProcessRegressor(kernel=1**2 * Matern(length_scale=[1, 1, 1], nu=2.5) + WhiteKernel(noise_level=1),\n                                        n_restarts_optimizer=2, noise='gaussian',\n                                        normalize_y=True, random_state=589623511), GaussianProcessRegressor(kernel=1**2 * Matern(length_scale=[1, 1, 1], nu=2.5) + WhiteKernel(noise_level=1),\n                                        n_restarts_optimizer=2, noise='gaussian',\n                                        normalize_y=True, random_state=589623511), GaussianProcessRegressor(kernel=1**2 * Matern(length_scale=[1, 1, 1], nu=2.5) + WhiteKernel(noise_level=1),\n                                        n_restarts_optimizer=2, noise='gaussian',\n                                        normalize_y=True, random_state=589623511), GaussianProcessRegressor(kernel=1**2 * Matern(length_scale=[1, 1, 1], nu=2.5) + WhiteKernel(noise_level=1),\n                                        n_restarts_optimizer=2, noise='gaussian',\n                                        normalize_y=True, random_state=589623511), GaussianProcessRegressor(kernel=1**2 * Matern(length_scale=[1, 1, 1], nu=2.5) + WhiteKernel(noise_level=1),\n                                        n_restarts_optimizer=2, noise='gaussian',\n                                        normalize_y=True, random_state=589623511), GaussianProcessRegressor(kernel=1**2 * Matern(length_scale=[1, 1, 1], nu=2.5) + WhiteKernel(noise_level=1),\n                                        n_restarts_optimizer=2, noise='gaussian',\n                                        normalize_y=True, random_state=589623511), GaussianProcessRegressor(kernel=1**2 * Matern(length_scale=[1, 1, 1], nu=2.5) + WhiteKernel(noise_level=1),\n                                        n_restarts_optimizer=2, noise='gaussian',\n                                        normalize_y=True, random_state=589623511), GaussianProcessRegressor(kernel=1**2 * Matern(length_scale=[1, 1, 1], nu=2.5) + WhiteKernel(noise_level=1),\n                                        n_restarts_optimizer=2, noise='gaussian',\n                                        normalize_y=True, random_state=589623511), GaussianProcessRegressor(kernel=1**2 * Matern(length_scale=[1, 1, 1], nu=2.5) + WhiteKernel(noise_level=1),\n                                        n_restarts_optimizer=2, noise='gaussian',\n                                        normalize_y=True, random_state=589623511), GaussianProcessRegressor(kernel=1**2 * Matern(length_scale=[1, 1, 1], nu=2.5) + WhiteKernel(noise_level=1),\n                                        n_restarts_optimizer=2, noise='gaussian',\n                                        normalize_y=True, random_state=589623511), GaussianProcessRegressor(kernel=1**2 * Matern(length_scale=[1, 1, 1], nu=2.5) + WhiteKernel(noise_level=1),\n                                        n_restarts_optimizer=2, noise='gaussian',\n                                        normalize_y=True, random_state=589623511), GaussianProcessRegressor(kernel=1**2 * Matern(length_scale=[1, 1, 1], nu=2.5) + WhiteKernel(noise_level=1),\n                                        n_restarts_optimizer=2, noise='gaussian',\n                                        normalize_y=True, random_state=589623511), GaussianProcessRegressor(kernel=1**2 * Matern(length_scale=[1, 1, 1], nu=2.5) + WhiteKernel(noise_level=1),\n                                        n_restarts_optimizer=2, noise='gaussian',\n                                        normalize_y=True, random_state=589623511), GaussianProcessRegressor(kernel=1**2 * Matern(length_scale=[1, 1, 1], nu=2.5) + WhiteKernel(noise_level=1),\n                                        n_restarts_optimizer=2, noise='gaussian',\n                                        normalize_y=True, random_state=589623511), GaussianProcessRegressor(kernel=1**2 * Matern(length_scale=[1, 1, 1], nu=2.5) + WhiteKernel(noise_level=1),\n                                        n_restarts_optimizer=2, noise='gaussian',\n                                        normalize_y=True, random_state=589623511), GaussianProcessRegressor(kernel=1**2 * Matern(length_scale=[1, 1, 1], nu=2.5) + WhiteKernel(noise_level=1),\n                                        n_restarts_optimizer=2, noise='gaussian',\n                                        normalize_y=True, random_state=589623511), GaussianProcessRegressor(kernel=1**2 * Matern(length_scale=[1, 1, 1], nu=2.5) + WhiteKernel(noise_level=1),\n                                        n_restarts_optimizer=2, noise='gaussian',\n                                        normalize_y=True, random_state=589623511), GaussianProcessRegressor(kernel=1**2 * Matern(length_scale=[1, 1, 1], nu=2.5) + WhiteKernel(noise_level=1),\n                                        n_restarts_optimizer=2, noise='gaussian',\n                                        normalize_y=True, random_state=589623511), GaussianProcessRegressor(kernel=1**2 * Matern(length_scale=[1, 1, 1], nu=2.5) + WhiteKernel(noise_level=1),\n                                        n_restarts_optimizer=2, noise='gaussian',\n                                        normalize_y=True, random_state=589623511), GaussianProcessRegressor(kernel=1**2 * Matern(length_scale=[1, 1, 1], nu=2.5) + WhiteKernel(noise_level=1),\n                                        n_restarts_optimizer=2, noise='gaussian',\n                                        normalize_y=True, random_state=589623511), GaussianProcessRegressor(kernel=1**2 * Matern(length_scale=[1, 1, 1], nu=2.5) + WhiteKernel(noise_level=1),\n                                        n_restarts_optimizer=2, noise='gaussian',\n                                        normalize_y=True, random_state=589623511), GaussianProcessRegressor(kernel=1**2 * Matern(length_scale=[1, 1, 1], nu=2.5) + WhiteKernel(noise_level=1),\n                                        n_restarts_optimizer=2, noise='gaussian',\n                                        normalize_y=True, random_state=589623511), GaussianProcessRegressor(kernel=1**2 * Matern(length_scale=[1, 1, 1], nu=2.5) + WhiteKernel(noise_level=1),\n                                        n_restarts_optimizer=2, noise='gaussian',\n                                        normalize_y=True, random_state=589623511), GaussianProcessRegressor(kernel=1**2 * Matern(length_scale=[1, 1, 1], nu=2.5) + WhiteKernel(noise_level=1),\n                                        n_restarts_optimizer=2, noise='gaussian',\n                                        normalize_y=True, random_state=589623511), GaussianProcessRegressor(kernel=1**2 * Matern(length_scale=[1, 1, 1], nu=2.5) + WhiteKernel(noise_level=1),\n                                        n_restarts_optimizer=2, noise='gaussian',\n                                        normalize_y=True, random_state=589623511), GaussianProcessRegressor(kernel=1**2 * Matern(length_scale=[1, 1, 1], nu=2.5) + WhiteKernel(noise_level=1),\n                                        n_restarts_optimizer=2, noise='gaussian',\n                                        normalize_y=True, random_state=589623511), GaussianProcessRegressor(kernel=1**2 * Matern(length_scale=[1, 1, 1], nu=2.5) + WhiteKernel(noise_level=1),\n                                        n_restarts_optimizer=2, noise='gaussian',\n                                        normalize_y=True, random_state=589623511), GaussianProcessRegressor(kernel=1**2 * Matern(length_scale=[1, 1, 1], nu=2.5) + WhiteKernel(noise_level=1),\n                                        n_restarts_optimizer=2, noise='gaussian',\n                                        normalize_y=True, random_state=589623511), GaussianProcessRegressor(kernel=1**2 * Matern(length_scale=[1, 1, 1], nu=2.5) + WhiteKernel(noise_level=1),\n                                        n_restarts_optimizer=2, noise='gaussian',\n                                        normalize_y=True, random_state=589623511), GaussianProcessRegressor(kernel=1**2 * Matern(length_scale=[1, 1, 1], nu=2.5) + WhiteKernel(noise_level=1),\n                                        n_restarts_optimizer=2, noise='gaussian',\n                                        normalize_y=True, random_state=589623511), GaussianProcessRegressor(kernel=1**2 * Matern(length_scale=[1, 1, 1], nu=2.5) + WhiteKernel(noise_level=1),\n                                        n_restarts_optimizer=2, noise='gaussian',\n                                        normalize_y=True, random_state=589623511), GaussianProcessRegressor(kernel=1**2 * Matern(length_scale=[1, 1, 1], nu=2.5) + WhiteKernel(noise_level=1),\n                                        n_restarts_optimizer=2, noise='gaussian',\n                                        normalize_y=True, random_state=589623511), GaussianProcessRegressor(kernel=1**2 * Matern(length_scale=[1, 1, 1], nu=2.5) + WhiteKernel(noise_level=1),\n                                        n_restarts_optimizer=2, noise='gaussian',\n                                        normalize_y=True, random_state=589623511), GaussianProcessRegressor(kernel=1**2 * Matern(length_scale=[1, 1, 1], nu=2.5) + WhiteKernel(noise_level=1),\n                                        n_restarts_optimizer=2, noise='gaussian',\n                                        normalize_y=True, random_state=589623511), GaussianProcessRegressor(kernel=1**2 * Matern(length_scale=[1, 1, 1], nu=2.5) + WhiteKernel(noise_level=1),\n                                        n_restarts_optimizer=2, noise='gaussian',\n                                        normalize_y=True, random_state=589623511), GaussianProcessRegressor(kernel=1**2 * Matern(length_scale=[1, 1, 1], nu=2.5) + WhiteKernel(noise_level=1),\n                                        n_restarts_optimizer=2, noise='gaussian',\n                                        normalize_y=True, random_state=589623511), GaussianProcessRegressor(kernel=1**2 * Matern(length_scale=[1, 1, 1], nu=2.5) + WhiteKernel(noise_level=1),\n                                        n_restarts_optimizer=2, noise='gaussian',\n                                        normalize_y=True, random_state=589623511), GaussianProcessRegressor(kernel=1**2 * Matern(length_scale=[1, 1, 1], nu=2.5) + WhiteKernel(noise_level=1),\n                                        n_restarts_optimizer=2, noise='gaussian',\n                                        normalize_y=True, random_state=589623511), GaussianProcessRegressor(kernel=1**2 * Matern(length_scale=[1, 1, 1], nu=2.5) + WhiteKernel(noise_level=1),\n                                        n_restarts_optimizer=2, noise='gaussian',\n                                        normalize_y=True, random_state=589623511), GaussianProcessRegressor(kernel=1**2 * Matern(length_scale=[1, 1, 1], nu=2.5) + WhiteKernel(noise_level=1),\n                                        n_restarts_optimizer=2, noise='gaussian',\n                                        normalize_y=True, random_state=589623511), GaussianProcessRegressor(kernel=1**2 * Matern(length_scale=[1, 1, 1], nu=2.5) + WhiteKernel(noise_level=1),\n                                        n_restarts_optimizer=2, noise='gaussian',\n                                        normalize_y=True, random_state=589623511), GaussianProcessRegressor(kernel=1**2 * Matern(length_scale=[1, 1, 1], nu=2.5) + WhiteKernel(noise_level=1),\n                                        n_restarts_optimizer=2, noise='gaussian',\n                                        normalize_y=True, random_state=589623511), GaussianProcessRegressor(kernel=1**2 * Matern(length_scale=[1, 1, 1], nu=2.5) + WhiteKernel(noise_level=1),\n                                        n_restarts_optimizer=2, noise='gaussian',\n                                        normalize_y=True, random_state=589623511), GaussianProcessRegressor(kernel=1**2 * Matern(length_scale=[1, 1, 1], nu=2.5) + WhiteKernel(noise_level=1),\n                                        n_restarts_optimizer=2, noise='gaussian',\n                                        normalize_y=True, random_state=589623511), GaussianProcessRegressor(kernel=1**2 * Matern(length_scale=[1, 1, 1], nu=2.5) + WhiteKernel(noise_level=1),\n                                        n_restarts_optimizer=2, noise='gaussian',\n                                        normalize_y=True, random_state=589623511), GaussianProcessRegressor(kernel=1**2 * Matern(length_scale=[1, 1, 1], nu=2.5) + WhiteKernel(noise_level=1),\n                                        n_restarts_optimizer=2, noise='gaussian',\n                                        normalize_y=True, random_state=589623511), GaussianProcessRegressor(kernel=1**2 * Matern(length_scale=[1, 1, 1], nu=2.5) + WhiteKernel(noise_level=1),\n                                        n_restarts_optimizer=2, noise='gaussian',\n                                        normalize_y=True, random_state=589623511), GaussianProcessRegressor(kernel=1**2 * Matern(length_scale=[1, 1, 1], nu=2.5) + WhiteKernel(noise_level=1),\n                                        n_restarts_optimizer=2, noise='gaussian',\n                                        normalize_y=True, random_state=589623511), GaussianProcessRegressor(kernel=1**2 * Matern(length_scale=[1, 1, 1], nu=2.5) + WhiteKernel(noise_level=1),\n                                        n_restarts_optimizer=2, noise='gaussian',\n                                        normalize_y=True, random_state=589623511), GaussianProcessRegressor(kernel=1**2 * Matern(length_scale=[1, 1, 1], nu=2.5) + WhiteKernel(noise_level=1),\n                                        n_restarts_optimizer=2, noise='gaussian',\n                                        normalize_y=True, random_state=589623511), GaussianProcessRegressor(kernel=1**2 * Matern(length_scale=[1, 1, 1], nu=2.5) + WhiteKernel(noise_level=1),\n                                        n_restarts_optimizer=2, noise='gaussian',\n                                        normalize_y=True, random_state=589623511), GaussianProcessRegressor(kernel=1**2 * Matern(length_scale=[1, 1, 1], nu=2.5) + WhiteKernel(noise_level=1),\n                                        n_restarts_optimizer=2, noise='gaussian',\n                                        normalize_y=True, random_state=589623511), GaussianProcessRegressor(kernel=1**2 * Matern(length_scale=[1, 1, 1], nu=2.5) + WhiteKernel(noise_level=1),\n                                        n_restarts_optimizer=2, noise='gaussian',\n                                        normalize_y=True, random_state=589623511), GaussianProcessRegressor(kernel=1**2 * Matern(length_scale=[1, 1, 1], nu=2.5) + WhiteKernel(noise_level=1),\n                                        n_restarts_optimizer=2, noise='gaussian',\n                                        normalize_y=True, random_state=589623511), GaussianProcessRegressor(kernel=1**2 * Matern(length_scale=[1, 1, 1], nu=2.5) + WhiteKernel(noise_level=1),\n                                        n_restarts_optimizer=2, noise='gaussian',\n                                        normalize_y=True, random_state=589623511), GaussianProcessRegressor(kernel=1**2 * Matern(length_scale=[1, 1, 1], nu=2.5) + WhiteKernel(noise_level=1),\n                                        n_restarts_optimizer=2, noise='gaussian',\n                                        normalize_y=True, random_state=589623511), GaussianProcessRegressor(kernel=1**2 * Matern(length_scale=[1, 1, 1], nu=2.5) + WhiteKernel(noise_level=1),\n                                        n_restarts_optimizer=2, noise='gaussian',\n                                        normalize_y=True, random_state=589623511)]\n        space: Space([Real(low=0.2, high=0.8, prior='uniform', transform='normalize'),\n                      Real(low=0.2, high=0.8, prior='uniform', transform='normalize'),\n                      Integer(low=80, high=250, prior='uniform', transform='normalize')])\n random_state: RandomState(MT19937)\n        specs:     args:                    func: <function evaluate_params at 0x15f345f30>\n                                      dimensions: Space([Real(low=0.2, high=0.8, prior='uniform', transform='normalize'),\n                                                         Real(low=0.2, high=0.8, prior='uniform', transform='normalize'),\n                                                         Integer(low=80, high=250, prior='uniform', transform='normalize')])\n                                  base_estimator: GaussianProcessRegressor(kernel=1**2 * Matern(length_scale=[1, 1, 1], nu=2.5),\n                                                                           n_restarts_optimizer=2, noise='gaussian',\n                                                                           normalize_y=True, random_state=589623511)\n                                         n_calls: 100\n                                 n_random_starts: None\n                                n_initial_points: 10\n                         initial_point_generator: random\n                                        acq_func: gp_hedge\n                                   acq_optimizer: auto\n                                              x0: None\n                                              y0: None\n                                    random_state: RandomState(MT19937)\n                                         verbose: False\n                                        callback: None\n                                        n_points: 10000\n                            n_restarts_optimizer: 5\n                                              xi: 0.01\n                                           kappa: 1.96\n                                          n_jobs: 1\n                                model_queue_size: None\n               function: base_minimize"
     },
     "execution_count": 4,
     "metadata": {},
     "output_type": "execute_result"
    }
   ],
   "source": [
    "# Evaluation function\n",
    "from evaluate_midi import evaluate\n",
    "from skopt import gp_minimize\n",
    "from skopt.space import Real, Integer\n",
    "\n",
    "# Monkey patch numpy to avoid skopt error\n",
    "# (see https://github.com/scikit-optimize/scikit-optimize/issues/1138 for details)\n",
    "import numpy\n",
    "numpy.int = int\n",
    "\n",
    "def evaluate_params(params):\n",
    "    options = {\n",
    "        \"onset_threshold\": params[0], # default: 0.5\n",
    "        \"frame_threshold\": params[1], # default: 0.3\n",
    "        \"minimum_note_length\": params[2], # default: 127.7\n",
    "    }\n",
    "    notes = predict_notes(**options)\n",
    "    if len(notes) == 0:\n",
    "        # optimization is trying to minimize the result\n",
    "        # return max value to indicate invalid result\n",
    "        return 1\n",
    "    estimated_notes = prepare_eval_data(notes)\n",
    "    scores = evaluate(reference_notes, estimated_notes)\n",
    "    return 1.0 - scores['F-measure']\n",
    "\n",
    "# Parameter ranges for prediction options\n",
    "param_ranges = [\n",
    "    Real(0.2, 0.8, name=\"onset_threshold\"),\n",
    "    Real(0.2, 0.8, name=\"frame_threshold\"),\n",
    "    Integer(80, 250, name=\"minimum_note_length\")\n",
    "]\n",
    "\n",
    "gp_minimize(evaluate_params, param_ranges, n_calls=100)"
   ],
   "metadata": {
    "collapsed": false,
    "ExecuteTime": {
     "end_time": "2023-07-21T14:43:36.986017Z",
     "start_time": "2023-07-21T14:39:31.036912Z"
    }
   }
  }
 ],
 "metadata": {
  "kernelspec": {
   "display_name": "Python 3",
   "language": "python",
   "name": "python3"
  },
  "language_info": {
   "codemirror_mode": {
    "name": "ipython",
    "version": 2
   },
   "file_extension": ".py",
   "mimetype": "text/x-python",
   "name": "python",
   "nbconvert_exporter": "python",
   "pygments_lexer": "ipython2",
   "version": "2.7.6"
  }
 },
 "nbformat": 4,
 "nbformat_minor": 0
}
