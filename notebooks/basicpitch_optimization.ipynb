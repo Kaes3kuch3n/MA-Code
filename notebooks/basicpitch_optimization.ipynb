{
 "cells": [
  {
   "cell_type": "markdown",
   "source": [
    "# Optimization of vocals processing and transcription parameters\n",
    "Optimize parameters of audio effects and basic pitch using skopt's implementation of Bayesian optimization, `gp_minimize`.\n",
    "The optimization is performed on the vocals track of the USDX MIDI file, using the F-measure as the evaluation metric.\n",
    "\n",
    "## Load reference MIDI file\n",
    "Load a MIDI file created from a USDX song file and convert the MIDI data to a list of note events for `mir_eval`."
   ],
   "metadata": {
    "collapsed": false
   }
  },
  {
   "cell_type": "code",
   "execution_count": null,
   "outputs": [],
   "source": [
    "import pretty_midi\n",
    "from evaluate_midi import prepare_eval_data\n",
    "\n",
    "# Load reference notes from USDX MIDI file\n",
    "midi = pretty_midi.PrettyMIDI('../data/out/usdx-midi/song.mid')\n",
    "original_midi = midi.instruments[0].notes\n",
    "\n",
    "reference_notes = prepare_eval_data(original_midi)"
   ],
   "metadata": {
    "collapsed": false
   }
  },
  {
   "cell_type": "markdown",
   "source": [
    "## Predict notes from vocals track\n",
    "Predict the notes from the separated vocals track using Basic Pitch."
   ],
   "metadata": {
    "collapsed": false
   }
  },
  {
   "cell_type": "code",
   "execution_count": null,
   "outputs": [],
   "source": [
    "import tensorflow as tf\n",
    "from basic_pitch.inference import predict, ICASSP_2022_MODEL_PATH\n",
    "\n",
    "# Load prediction model to cache it between function calls\n",
    "basic_pitch_model = tf.saved_model.load(str(ICASSP_2022_MODEL_PATH))\n",
    "\n",
    "# Generate MIDI from vocals track\n",
    "def predict_notes(**options):\n",
    "    model_output, midi_data, note_events = predict(\n",
    "        \"../data/out/optimized_audio/vocals.wav\",\n",
    "        basic_pitch_model,\n",
    "        minimum_frequency=80,\n",
    "        maximum_frequency=1000,\n",
    "        **options\n",
    "    )\n",
    "    if len(midi_data.instruments) == 0:\n",
    "        print(\"No notes predicted for params %r\" % options)\n",
    "        return []\n",
    "    return midi_data.instruments[0].notes"
   ],
   "metadata": {
    "collapsed": false
   }
  },
  {
   "cell_type": "markdown",
   "source": [
    "## Run optimization\n",
    "Compare the prediction to the reference notes using `mir_eval`'s F-measure implementation.\n",
    "Optimize parameters based on the result."
   ],
   "metadata": {
    "collapsed": false
   }
  },
  {
   "cell_type": "code",
   "execution_count": null,
   "outputs": [],
   "source": [
    "# Evaluation function\n",
    "from evaluate_midi import evaluate\n",
    "from skopt import gp_minimize\n",
    "from skopt.space import Real, Integer\n",
    "\n",
    "# Monkey patch numpy to avoid skopt error\n",
    "# (see https://github.com/scikit-optimize/scikit-optimize/issues/1138 for details)\n",
    "import numpy\n",
    "numpy.int = int\n",
    "\n",
    "def evaluate_params(params):\n",
    "    options = {\n",
    "        \"onset_threshold\": params[0], # default: 0.5\n",
    "        \"frame_threshold\": params[1], # default: 0.3\n",
    "        \"minimum_note_length\": params[2], # default: 127.7\n",
    "    }\n",
    "    notes = predict_notes(**options)\n",
    "    if len(notes) == 0:\n",
    "        # optimization is trying to minimize the result\n",
    "        # return max value to indicate invalid result\n",
    "        return 1\n",
    "    estimated_notes = prepare_eval_data(notes)\n",
    "    scores = evaluate(reference_notes, estimated_notes)\n",
    "    return 1.0 - scores['F-measure']\n",
    "\n",
    "# Parameter ranges for prediction options\n",
    "param_ranges = [\n",
    "    Real(0.2, 0.8, name=\"onset_threshold\"),\n",
    "    Real(0.2, 0.8, name=\"frame_threshold\"),\n",
    "    Integer(80, 250, name=\"minimum_note_length\")\n",
    "]\n",
    "\n",
    "gp_minimize(evaluate_params, param_ranges, n_calls=100)"
   ],
   "metadata": {
    "collapsed": false
   }
  }
 ],
 "metadata": {
  "kernelspec": {
   "display_name": "Python 3",
   "language": "python",
   "name": "python3"
  },
  "language_info": {
   "codemirror_mode": {
    "name": "ipython",
    "version": 2
   },
   "file_extension": ".py",
   "mimetype": "text/x-python",
   "name": "python",
   "nbconvert_exporter": "python",
   "pygments_lexer": "ipython2",
   "version": "2.7.6"
  }
 },
 "nbformat": 4,
 "nbformat_minor": 0
}
